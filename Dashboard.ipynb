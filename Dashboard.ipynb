{
 "cells": [
  {
   "cell_type": "code",
   "execution_count": 1,
   "id": "b5f10cbb",
   "metadata": {},
   "outputs": [],
   "source": [
    "import pandas as pd\n",
    "import numpy as np\n",
    "import datetime as dt\n",
    "import matplotlib as plt\n",
    "import os"
   ]
  },
  {
   "cell_type": "code",
   "execution_count": 6,
   "id": "4fbc810d",
   "metadata": {},
   "outputs": [],
   "source": [
    "def hj(today = dt.datetime.today()):\n",
    "    hj = today.strftime('%d-%m-%Y')\n",
    "    \n",
    "    return hj\n",
    "\n",
    "def get_dates(today = dt.datetime.today()):\n",
    "    '''\n",
    "    Dado o dia de hoje, computa todas as datas de quinze em quinze dias, começando por amanhã\n",
    "    e terminando em 360 dias. Retorna as datas numa lista em formato %d%m%Y\n",
    "    '''\n",
    "    list_days = [1] + [i*15 for i in range(1, 25)]\n",
    "    dates = [(today + dt.timedelta(days=day)) for day in list_days]\n",
    "    dates_mdY = [date.strftime('%m/%d/%Y') for date in dates]\n",
    "    dates_dmY = [date.strftime('%d/%m/%Y') for date in dates]\n",
    "    dates_hifen = [date.strftime('%d-%m-%Y') for date in dates]\n",
    "    \n",
    "    return dates_mdY, dates_dmY, dates_hifen"
   ]
  },
  {
   "cell_type": "code",
   "execution_count": 59,
   "id": "2d1d2471",
   "metadata": {},
   "outputs": [],
   "source": [
    "test_df = pd.DataFrame(columns = ['Companhia', \n",
    "                                  'Data de Coleta', \n",
    "                                  'Data da Passagem', \n",
    "                                  'Preço Mínimo',\n",
    "                                  'Média dos Preços'])\n",
    "\n",
    "for folder in os.listdir('./Azul/' + hj()):\n",
    "    try:\n",
    "        date_df = pd.read_pickle('./Azul/' + hj() + '/'+ folder)\n",
    "        prices = date_df[\"Preço (R$)\"]    \n",
    "    except:\n",
    "        prices = np.nan\n",
    "        \n",
    "    try:\n",
    "        min_price = prices.min()\n",
    "        avg_price = prices.mean()\n",
    "    except:\n",
    "        min_price = np.nan\n",
    "        avg_price = np.nan\n",
    "            \n",
    "    new_row = {'Companhia': 'Azul', \n",
    "                'Data de Coleta': hj(), \n",
    "                'Data da Passagem': folder[0:10], \n",
    "                'Preço Mínimo': [min_price],\n",
    "                'Média dos Preços': avg_price }\n",
    "    test_df = pd.concat([test_df, pd.DataFrame.from_dict(new_row)])\n",
    "        \n",
    "for folder in os.listdir(f'./Latam/{hj()}'):\n",
    "    try:\n",
    "        date_df = pd.read_pickle('./Latam/' + hj() + '/' + folder)\n",
    "        prices = date_df[\"Preço (R$)\"]          \n",
    "    except:\n",
    "        prices = np.nan\n",
    "        \n",
    "    try:\n",
    "        min_price = prices.min()\n",
    "        avg_price = prices.mean()\n",
    "    except:\n",
    "        min_price = np.nan\n",
    "        avg_price = np.nan\n",
    "            \n",
    "    new_row = {'Companhia': 'Latam', \n",
    "                'Data de Coleta': hj(), \n",
    "                'Data da Passagem': folder[0:10], \n",
    "                'Preço Mínimo': [min_price],\n",
    "                'Média dos Preços': avg_price }\n",
    "    test_df = pd.concat([test_df, pd.DataFrame.from_dict(new_row)])\n",
    "        \n",
    "for folder in os.listdir(f'./Gol/{hj()}'):\n",
    "    try:\n",
    "        date_df = pd.read_pickle('./Gol/' + hj() + '/' + folder)\n",
    "        prices = date_df[\"Preço (R$)\"]          \n",
    "    except:\n",
    "        prices = np.nan\n",
    "        \n",
    "    try:\n",
    "        min_price = prices.min()\n",
    "        avg_price = prices.mean()\n",
    "    except:\n",
    "        min_price = np.nan\n",
    "        avg_price = np.nan\n",
    "            \n",
    "    new_row = {'Companhia': 'Gol', \n",
    "                'Data de Coleta': hj(), \n",
    "                'Data da Passagem': folder[0:10], \n",
    "                'Preço Mínimo': [min_price],\n",
    "                'Média dos Preços': avg_price }\n",
    "    test_df = pd.concat([test_df, pd.DataFrame.from_dict(new_row)])    "
   ]
  },
  {
   "cell_type": "code",
   "execution_count": 60,
   "id": "f2d30c4b",
   "metadata": {
    "scrolled": true
   },
   "outputs": [
    {
     "data": {
      "text/html": [
       "<div>\n",
       "<style scoped>\n",
       "    .dataframe tbody tr th:only-of-type {\n",
       "        vertical-align: middle;\n",
       "    }\n",
       "\n",
       "    .dataframe tbody tr th {\n",
       "        vertical-align: top;\n",
       "    }\n",
       "\n",
       "    .dataframe thead th {\n",
       "        text-align: right;\n",
       "    }\n",
       "</style>\n",
       "<table border=\"1\" class=\"dataframe\">\n",
       "  <thead>\n",
       "    <tr style=\"text-align: right;\">\n",
       "      <th></th>\n",
       "      <th>Companhia</th>\n",
       "      <th>Data de Coleta</th>\n",
       "      <th>Data da Passagem</th>\n",
       "      <th>Preço Mínimo</th>\n",
       "      <th>Média dos Preços</th>\n",
       "    </tr>\n",
       "  </thead>\n",
       "  <tbody>\n",
       "    <tr>\n",
       "      <th>0</th>\n",
       "      <td>Gol</td>\n",
       "      <td>2023-07-13</td>\n",
       "      <td>2023-07-14</td>\n",
       "      <td>2113.74</td>\n",
       "      <td>2309.177931</td>\n",
       "    </tr>\n",
       "    <tr>\n",
       "      <th>0</th>\n",
       "      <td>Latam</td>\n",
       "      <td>2023-07-13</td>\n",
       "      <td>2023-07-14</td>\n",
       "      <td>1745.74</td>\n",
       "      <td>1862.366333</td>\n",
       "    </tr>\n",
       "    <tr>\n",
       "      <th>0</th>\n",
       "      <td>Azul</td>\n",
       "      <td>2023-07-13</td>\n",
       "      <td>2023-07-14</td>\n",
       "      <td>2398.64</td>\n",
       "      <td>3009.240000</td>\n",
       "    </tr>\n",
       "    <tr>\n",
       "      <th>0</th>\n",
       "      <td>Gol</td>\n",
       "      <td>2023-07-13</td>\n",
       "      <td>2023-07-28</td>\n",
       "      <td>1175.64</td>\n",
       "      <td>1684.394167</td>\n",
       "    </tr>\n",
       "    <tr>\n",
       "      <th>0</th>\n",
       "      <td>Azul</td>\n",
       "      <td>2023-07-13</td>\n",
       "      <td>2023-07-28</td>\n",
       "      <td>1103.64</td>\n",
       "      <td>1763.412727</td>\n",
       "    </tr>\n",
       "    <tr>\n",
       "      <th>...</th>\n",
       "      <td>...</td>\n",
       "      <td>...</td>\n",
       "      <td>...</td>\n",
       "      <td>...</td>\n",
       "      <td>...</td>\n",
       "    </tr>\n",
       "    <tr>\n",
       "      <th>0</th>\n",
       "      <td>Azul</td>\n",
       "      <td>2023-07-13</td>\n",
       "      <td>2024-05-08</td>\n",
       "      <td>730.64</td>\n",
       "      <td>894.973333</td>\n",
       "    </tr>\n",
       "    <tr>\n",
       "      <th>0</th>\n",
       "      <td>Azul</td>\n",
       "      <td>2023-07-13</td>\n",
       "      <td>2024-05-23</td>\n",
       "      <td>730.64</td>\n",
       "      <td>968.348333</td>\n",
       "    </tr>\n",
       "    <tr>\n",
       "      <th>0</th>\n",
       "      <td>Azul</td>\n",
       "      <td>2023-07-13</td>\n",
       "      <td>2024-06-07</td>\n",
       "      <td>730.64</td>\n",
       "      <td>917.598333</td>\n",
       "    </tr>\n",
       "    <tr>\n",
       "      <th>0</th>\n",
       "      <td>Azul</td>\n",
       "      <td>2023-07-13</td>\n",
       "      <td>2024-06-22</td>\n",
       "      <td>730.64</td>\n",
       "      <td>915.854286</td>\n",
       "    </tr>\n",
       "    <tr>\n",
       "      <th>0</th>\n",
       "      <td>Azul</td>\n",
       "      <td>2023-07-13</td>\n",
       "      <td>2024-07-07</td>\n",
       "      <td>1025.64</td>\n",
       "      <td>1272.118261</td>\n",
       "    </tr>\n",
       "  </tbody>\n",
       "</table>\n",
       "<p>67 rows × 5 columns</p>\n",
       "</div>"
      ],
      "text/plain": [
       "   Companhia Data de Coleta Data da Passagem  Preço Mínimo  Média dos Preços\n",
       "0        Gol     2023-07-13       2023-07-14       2113.74       2309.177931\n",
       "0      Latam     2023-07-13       2023-07-14       1745.74       1862.366333\n",
       "0       Azul     2023-07-13       2023-07-14       2398.64       3009.240000\n",
       "0        Gol     2023-07-13       2023-07-28       1175.64       1684.394167\n",
       "0       Azul     2023-07-13       2023-07-28       1103.64       1763.412727\n",
       "..       ...            ...              ...           ...               ...\n",
       "0       Azul     2023-07-13       2024-05-08        730.64        894.973333\n",
       "0       Azul     2023-07-13       2024-05-23        730.64        968.348333\n",
       "0       Azul     2023-07-13       2024-06-07        730.64        917.598333\n",
       "0       Azul     2023-07-13       2024-06-22        730.64        915.854286\n",
       "0       Azul     2023-07-13       2024-07-07       1025.64       1272.118261\n",
       "\n",
       "[67 rows x 5 columns]"
      ]
     },
     "execution_count": 60,
     "metadata": {},
     "output_type": "execute_result"
    }
   ],
   "source": [
    "test_df['Data de Coleta'] = pd.to_datetime(test_df['Data de Coleta'], format='%d-%m-%Y')\n",
    "test_df['Data da Passagem'] = pd.to_datetime(test_df['Data da Passagem'], format='%d-%m-%Y')\n",
    "test_df = test_df.sort_values(by=['Data da Passagem'])\n",
    "#tmp = df[(df['Data de Coleta'] > '2023-06-30')]\n",
    "test_df['Data de Coleta'] = test_df['Data de Coleta'].astype(str)\n",
    "test_df['Data da Passagem'] = test_df['Data da Passagem'].astype(str)\n",
    "tmp = test_df[(test_df['Data de Coleta'] >= '2023-06-30')]\n",
    "tmp"
   ]
  },
  {
   "cell_type": "code",
   "execution_count": 1,
   "id": "d490dcf9",
   "metadata": {},
   "outputs": [
    {
     "data": {
      "text/html": [
       "\n",
       "        <iframe\n",
       "            width=\"100%\"\n",
       "            height=\"650\"\n",
       "            src=\"http://127.0.0.1:8050/\"\n",
       "            frameborder=\"0\"\n",
       "            allowfullscreen\n",
       "            \n",
       "        ></iframe>\n",
       "        "
      ],
      "text/plain": [
       "<IPython.lib.display.IFrame at 0x2bb867cd8a0>"
      ]
     },
     "metadata": {},
     "output_type": "display_data"
    }
   ],
   "source": [
    "from dash import Dash, html\n",
    "\n",
    "app = Dash(__name__)\n",
    "\n",
    "app.layout = html.Div([\n",
    "    html.Div(children='Hello World')\n",
    "])\n",
    "\n",
    "if __name__ == '__main__':\n",
    "    app.run(debug=True)"
   ]
  },
  {
   "cell_type": "code",
   "execution_count": 76,
   "id": "4c725b40",
   "metadata": {},
   "outputs": [
    {
     "data": {
      "text/html": [
       "\n",
       "        <iframe\n",
       "            width=\"100%\"\n",
       "            height=\"650\"\n",
       "            src=\"http://127.0.0.1:8050/\"\n",
       "            frameborder=\"0\"\n",
       "            allowfullscreen\n",
       "            \n",
       "        ></iframe>\n",
       "        "
      ],
      "text/plain": [
       "<IPython.lib.display.IFrame at 0x219fec1dcf0>"
      ]
     },
     "metadata": {},
     "output_type": "display_data"
    }
   ],
   "source": [
    "# Import packages\n",
    "from dash import Dash, html, dash_table\n",
    "import pandas as pd\n",
    "\n",
    "# Incorporate data\n",
    "df = tmp\n",
    "\n",
    "# Initialize the app\n",
    "app = Dash(__name__)\n",
    "\n",
    "# App layout\n",
    "app.layout = html.Div([\n",
    "    html.Div(children='My First App with Data'),\n",
    "    dash_table.DataTable(data=df.to_dict('records'), page_size=12)\n",
    "])\n",
    "\n",
    "# Run the app\n",
    "if __name__ == '__main__':\n",
    "    app.run(debug=True)"
   ]
  },
  {
   "cell_type": "code",
   "execution_count": 53,
   "id": "1d1b8c9c",
   "metadata": {
    "scrolled": true
   },
   "outputs": [
    {
     "data": {
      "text/html": [
       "\n",
       "        <iframe\n",
       "            width=\"100%\"\n",
       "            height=\"650\"\n",
       "            src=\"http://127.0.0.1:8050/\"\n",
       "            frameborder=\"0\"\n",
       "            allowfullscreen\n",
       "            \n",
       "        ></iframe>\n",
       "        "
      ],
      "text/plain": [
       "<IPython.lib.display.IFrame at 0x219f346ad40>"
      ]
     },
     "metadata": {},
     "output_type": "display_data"
    }
   ],
   "source": [
    "# Import packages\n",
    "from dash import Dash, html, dash_table, dcc\n",
    "import pandas as pd\n",
    "import plotly.express as px\n",
    "\n",
    "# Incorporate data\n",
    "df = tmp\n",
    "\n",
    "# Initialize the app\n",
    "app = Dash(__name__)\n",
    "\n",
    "# App layout\n",
    "app.layout = html.Div([\n",
    "    html.Div(children='My First App with Data and a Graph'),\n",
    "    dash_table.DataTable(data=df.to_dict('records'), page_size=10),\n",
    "    dcc.Graph(figure=px.line(df, x='Data da Passagem', y='Preço Mínimo', color='Companhia'))\n",
    "])\n",
    "\n",
    "# Run the app\n",
    "if __name__ == '__main__':\n",
    "    app.run(debug=True)"
   ]
  },
  {
   "cell_type": "code",
   "execution_count": 75,
   "id": "11d5dbc5",
   "metadata": {
    "scrolled": true
   },
   "outputs": [
    {
     "data": {
      "text/html": [
       "\n",
       "        <iframe\n",
       "            width=\"100%\"\n",
       "            height=\"650\"\n",
       "            src=\"http://127.0.0.1:8050/\"\n",
       "            frameborder=\"0\"\n",
       "            allowfullscreen\n",
       "            \n",
       "        ></iframe>\n",
       "        "
      ],
      "text/plain": [
       "<IPython.lib.display.IFrame at 0x219f66619c0>"
      ]
     },
     "metadata": {},
     "output_type": "display_data"
    }
   ],
   "source": [
    "import numpy as np\n",
    "import pandas as pd\n",
    "import plotly \n",
    "import plotly.express as px\n",
    "\n",
    "from dash import Dash, html, dash_table, dcc\n",
    "from dash.dependencies import Input, Output\n",
    "\n",
    "df = tmp\n",
    "external_stylesheets = [\"https://codepen.io/chriddyp/pen/bWLwgP.css\"]\n",
    "\n",
    "app = dash.Dash(__name__, external_stylesheets=external_stylesheets)\n",
    "app.layout = html.Div([\n",
    "    html.Div(children='My First App with Data and a Graph'),\n",
    "    dash_table.DataTable(data=df.to_dict('records'), page_size=10),\n",
    "    \n",
    "    html.Div(\n",
    "        dcc.Graph(id='graph',\n",
    "                  style={'height': 400, 'width': 800}\n",
    "                  ),\n",
    "    ),\n",
    "    html.Div([\n",
    "                html.Label(['Choose a graph:'],style={'font-weight': 'bold'}),\n",
    "                dcc.RadioItems(\n",
    "                    id='radio',\n",
    "                    options=[\n",
    "                             {'label': 'graph1', 'value': 'graph1'},\n",
    "                             {'label': 'graph2', 'value': 'graph2'},\n",
    "                    ],\n",
    "                    value='age',\n",
    "                    style={\"width\": \"60%\"}\n",
    "                ),\n",
    "        ])\n",
    "\n",
    "])\n",
    "\n",
    "\n",
    "\n",
    "# ---------------------------------------------------------------\n",
    "@app.callback(\n",
    "    Output('graph', 'figure'),\n",
    "    [Input(component_id='radio', component_property='value')]\n",
    ")\n",
    "def build_graph(value):\n",
    "    if value == 'graph1':\n",
    "        return px.line(\n",
    "            df,\n",
    "            x=\"Data da Passagem\",\n",
    "            y=\"Preço Mínimo\",\n",
    "            color=\"Companhia\"\n",
    "        )\n",
    "    else:\n",
    "        return px.line(\n",
    "            df,\n",
    "            x=\"Data da Passagem\",\n",
    "            y=\"Média dos Preços\",\n",
    "            color=\"Companhia\"\n",
    "        )\n",
    "\n",
    "if __name__ == '__main__':\n",
    "    app.run_server(debug=True)"
   ]
  },
  {
   "cell_type": "code",
   "execution_count": 56,
   "id": "99bd806e",
   "metadata": {},
   "outputs": [
    {
     "data": {
      "text/plain": [
       "883.9310714285714"
      ]
     },
     "execution_count": 56,
     "metadata": {},
     "output_type": "execute_result"
    }
   ],
   "source": [
    "tmp['Preço'].mean()"
   ]
  },
  {
   "cell_type": "code",
   "execution_count": null,
   "id": "815b30a9",
   "metadata": {},
   "outputs": [],
   "source": []
  }
 ],
 "metadata": {
  "kernelspec": {
   "display_name": "Python 3 (ipykernel)",
   "language": "python",
   "name": "python3"
  },
  "language_info": {
   "codemirror_mode": {
    "name": "ipython",
    "version": 3
   },
   "file_extension": ".py",
   "mimetype": "text/x-python",
   "name": "python",
   "nbconvert_exporter": "python",
   "pygments_lexer": "ipython3",
   "version": "3.10.9"
  }
 },
 "nbformat": 4,
 "nbformat_minor": 5
}
